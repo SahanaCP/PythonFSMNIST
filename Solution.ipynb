{
 "cells": [
  {
   "cell_type": "code",
   "execution_count": 1,
   "metadata": {},
   "outputs": [
    {
     "name": "stdout",
     "output_type": "stream",
     "text": [
      "Downloading http://fashion-mnist.s3-website.eu-central-1.amazonaws.com/train-images-idx3-ubyte.gz to C://Users//Krishna//Sahana//Chess//FashionMNIST\\raw\\train-images-idx3-ubyte.gz\n"
     ]
    },
    {
     "name": "stderr",
     "output_type": "stream",
     "text": [
      " 99%|████████████████████████████████████████████████████████████████▌| 26238976/26421880 [00:17<00:00, 3359255.80it/s]"
     ]
    },
    {
     "name": "stdout",
     "output_type": "stream",
     "text": [
      "Extracting C://Users//Krishna//Sahana//Chess//FashionMNIST\\raw\\train-images-idx3-ubyte.gz to C://Users//Krishna//Sahana//Chess//FashionMNIST\\raw\n",
      "Downloading http://fashion-mnist.s3-website.eu-central-1.amazonaws.com/train-labels-idx1-ubyte.gz to C://Users//Krishna//Sahana//Chess//FashionMNIST\\raw\\train-labels-idx1-ubyte.gz\n"
     ]
    },
    {
     "name": "stderr",
     "output_type": "stream",
     "text": [
      "\n",
      "0it [00:00, ?it/s]\n",
      "  0%|                                                                                        | 0/29515 [00:00<?, ?it/s]\n",
      " 56%|████████████████████████████████████████▌                                | 16384/29515 [00:00<00:00, 98514.21it/s]\n",
      "32768it [00:00, 52478.11it/s]                                                                                          "
     ]
    },
    {
     "name": "stdout",
     "output_type": "stream",
     "text": [
      "Extracting C://Users//Krishna//Sahana//Chess//FashionMNIST\\raw\\train-labels-idx1-ubyte.gz to C://Users//Krishna//Sahana//Chess//FashionMNIST\\raw\n",
      "Downloading http://fashion-mnist.s3-website.eu-central-1.amazonaws.com/t10k-images-idx3-ubyte.gz to C://Users//Krishna//Sahana//Chess//FashionMNIST\\raw\\t10k-images-idx3-ubyte.gz\n"
     ]
    },
    {
     "name": "stderr",
     "output_type": "stream",
     "text": [
      "\n",
      "0it [00:00, ?it/s]\n",
      "  0%|                                                                                      | 0/4422102 [00:00<?, ?it/s]\n",
      "  0%|▎                                                                      | 16384/4422102 [00:00<00:45, 97602.63it/s]\n",
      "  1%|▊                                                                     | 49152/4422102 [00:00<00:38, 114399.71it/s]\n",
      "  2%|█▋                                                                   | 106496/4422102 [00:00<00:30, 142438.83it/s]\n",
      "  4%|██▋                                                                  | 172032/4422102 [00:01<00:24, 175291.24it/s]\n",
      "  5%|███▋                                                                 | 237568/4422102 [00:01<00:20, 209129.81it/s]\n",
      "  7%|████▌                                                                | 294912/4422102 [00:01<00:17, 233586.35it/s]\n",
      "  8%|█████▌                                                               | 360448/4422102 [00:01<00:15, 265984.45it/s]\n",
      " 14%|█████████▍                                                           | 606208/4422102 [00:01<00:10, 351947.59it/s]\n",
      " 17%|███████████▉                                                         | 761856/4422102 [00:01<00:08, 431497.77it/s]\n",
      " 21%|██████████████▌                                                      | 933888/4422102 [00:02<00:06, 520054.09it/s]\n",
      " 25%|█████████████████                                                   | 1105920/4422102 [00:02<00:05, 607693.71it/s]\n",
      " 29%|███████████████████▋                                                | 1277952/4422102 [00:02<00:04, 720787.08it/s]\n",
      " 33%|██████████████████████▍                                             | 1458176/4422102 [00:02<00:03, 842088.79it/s]\n",
      " 36%|████████████████████████▊                                           | 1613824/4422102 [00:02<00:02, 971392.91it/s]\n",
      " 39%|██████████████████████████▊                                         | 1744896/4422102 [00:02<00:02, 922248.60it/s]\n",
      " 42%|████████████████████████████▌                                       | 1859584/4422102 [00:02<00:02, 854872.93it/s]\n",
      " 46%|███████████████████████████████▍                                    | 2048000/4422102 [00:03<00:02, 917487.46it/s]\n",
      " 51%|██████████████████████████████████▌                                 | 2244608/4422102 [00:03<00:02, 977097.77it/s]\n",
      " 55%|█████████████████████████████████████                              | 2449408/4422102 [00:03<00:01, 1035031.88it/s]\n",
      " 60%|████████████████████████████████████████▏                          | 2654208/4422102 [00:03<00:01, 1081265.04it/s]\n",
      " 65%|███████████████████████████████████████████▎                       | 2859008/4422102 [00:03<00:01, 1185939.83it/s]\n",
      " 69%|██████████████████████████████████████████████▍                    | 3063808/4422102 [00:03<00:01, 1278694.92it/s]\n",
      " 72%|████████████████████████████████████████████████▌                  | 3203072/4422102 [00:03<00:00, 1282741.09it/s]\n",
      " 76%|██████████████████████████████████████████████████▋                | 3342336/4422102 [00:04<00:00, 1121343.94it/s]\n",
      " 79%|████████████████████████████████████████████████████▉              | 3497984/4422102 [00:04<00:00, 1190208.03it/s]\n",
      " 83%|███████████████████████████████████████████████████████▋           | 3678208/4422102 [00:04<00:00, 1323542.83it/s]\n",
      " 87%|█████████████████████████████████████████████████████████▉         | 3825664/4422102 [00:04<00:00, 1237393.58it/s]\n",
      " 90%|████████████████████████████████████████████████████████████       | 3964928/4422102 [00:04<00:00, 1114688.78it/s]\n",
      " 94%|██████████████████████████████████████████████████████████████▉    | 4153344/4422102 [00:04<00:00, 1221300.76it/s]\n",
      " 98%|█████████████████████████████████████████████████████████████████▋ | 4333568/4422102 [00:04<00:00, 1339681.44it/s]"
     ]
    },
    {
     "name": "stdout",
     "output_type": "stream",
     "text": [
      "Extracting C://Users//Krishna//Sahana//Chess//FashionMNIST\\raw\\t10k-images-idx3-ubyte.gz to C://Users//Krishna//Sahana//Chess//FashionMNIST\\raw\n",
      "Downloading http://fashion-mnist.s3-website.eu-central-1.amazonaws.com/t10k-labels-idx1-ubyte.gz to C://Users//Krishna//Sahana//Chess//FashionMNIST\\raw\\t10k-labels-idx1-ubyte.gz\n"
     ]
    },
    {
     "name": "stderr",
     "output_type": "stream",
     "text": [
      "\n",
      "\n",
      "0it [00:00, ?it/s]\n",
      "\n",
      "  0%|                                                                                         | 0/5148 [00:00<?, ?it/s]\n",
      "\n",
      "8192it [00:00, 15028.68it/s]                                                                                           "
     ]
    },
    {
     "name": "stdout",
     "output_type": "stream",
     "text": [
      "Extracting C://Users//Krishna//Sahana//Chess//FashionMNIST\\raw\\t10k-labels-idx1-ubyte.gz to C://Users//Krishna//Sahana//Chess//FashionMNIST\\raw\n",
      "Processing...\n",
      "Done!\n"
     ]
    },
    {
     "data": {
      "text/plain": [
       "<Figure size 640x480 with 1 Axes>"
      ]
     },
     "metadata": {},
     "output_type": "display_data"
    },
    {
     "data": {
      "text/plain": [
       "<Figure size 640x480 with 1 Axes>"
      ]
     },
     "metadata": {},
     "output_type": "display_data"
    },
    {
     "name": "stderr",
     "output_type": "stream",
     "text": [
      "26427392it [00:30, 3359255.80it/s]                                                                                     \n",
      "4423680it [00:20, 1339681.44it/s]                                                                                      "
     ]
    }
   ],
   "source": [
    "import torch\n",
    "from torchvision import datasets, transforms\n",
    "import helper\n",
    "\n",
    "# Define a transform to normalize the data\n",
    "transform = transforms.Compose([transforms.ToTensor(),\n",
    "                                transforms.Normalize((0.5,), (0.5,))])\n",
    "# Download and load the training data\n",
    "trainset = datasets.FashionMNIST('C://Users//Krishna//Sahana//Chess//', download=True, train=True, transform=transform)\n",
    "trainloader = torch.utils.data.DataLoader(trainset, batch_size=64, shuffle=False)\n",
    "\n",
    "# Download and load the test data\n",
    "testset = datasets.FashionMNIST('C://Users//Krishna//Sahana//Chess//', download=True, train=False, transform=transform)\n",
    "testloader = torch.utils.data.DataLoader(testset, batch_size=64, shuffle=False)\n",
    "\n",
    "# Display the training and test images\n",
    "\n",
    "import matplotlib.pyplot as plt\n",
    "import numpy as np\n",
    "import torchvision\n",
    "\n",
    "# function to show an image\n",
    "\n",
    "def imshow(img):\n",
    "    img = img / 2 + 0.5     # unnormalize\n",
    "    npimg = img.numpy()\n",
    "    plt.imshow(np.transpose(npimg, (1, 2, 0)))\n",
    "    plt.show()\n",
    "    \n",
    "# get training images\n",
    "dataiter = iter(trainloader)\n",
    "images, labels = dataiter.next()\n",
    "\n",
    "# show images\n",
    "imshow(torchvision.utils.make_grid(images))\n",
    "\n",
    "#get test images\n",
    "datatstiter = iter(testloader)\n",
    "tstimages, tstlabels = datatstiter.next()\n",
    "# show images\n",
    "imshow(torchvision.utils.make_grid(tstimages))"
   ]
  },
  {
   "cell_type": "code",
   "execution_count": 2,
   "metadata": {},
   "outputs": [
    {
     "data": {
      "image/png": "[encoded data removed]",
      "text/plain": [
       "<Figure size 432x288 with 1 Axes>"
      ]
     },
     "metadata": {
      "needs_background": "light"
     },
     "output_type": "display_data"
    },
    {
     "data": {
      "image/png": "[encoded data removed]",
      "text/plain": [
       "<Figure size 432x288 with 1 Axes>"
      ]
     },
     "metadata": {
      "needs_background": "light"
     },
     "output_type": "display_data"
    },
    {
     "name": "stdout",
     "output_type": "stream",
     "text": [
      "Test Images Size tensor(-1.) tensor(1.) torch.Size([64, 1, 28, 28])\n",
      "Train Images Size tensor(-1.) tensor(1.) torch.Size([64, 1, 28, 28])\n"
     ]
    }
   ],
   "source": [
    "# Print shape size\n",
    "imshow(torchvision.utils.make_grid(tstimages[0,:]))\n",
    "imshow(torchvision.utils.make_grid(images[0,:]))\n",
    "print(\"Test Images Size\", tstimages.min(), tstimages.max(), tstimages.shape)\n",
    "print(\"Train Images Size\", images.min(), images.max(), images.shape)"
   ]
  },
  {
   "cell_type": "code",
   "execution_count": 3,
   "metadata": {},
   "outputs": [],
   "source": [
    "import torch\n",
    "from torch import nn\n",
    "import torch.nn.functional as F\n",
    "import math\n",
    "\n",
    "# Loss Function\n",
    "loss_func = F.cross_entropy\n",
    "\n",
    "# Define the modle subclass\n",
    "class Net(nn.Module):\n",
    "\n",
    "    def __init__(self):\n",
    "        super().__init__()\n",
    "        self.conv1 = nn.Conv2d(1, 16, kernel_size=3, stride=2, padding=1)\n",
    "        self.conv2 = nn.Conv2d(16, 16, kernel_size=3, stride=2, padding=1)\n",
    "        self.conv3 = nn.Conv2d(16, 10, kernel_size=3, stride=2, padding=1)\n",
    "\n",
    "    def forward(self, xb):\n",
    "        xb = xb.view(-1, 1, 28, 28)\n",
    "        xb = F.relu(self.conv1(xb))\n",
    "        xb = F.relu(self.conv2(xb))\n",
    "        xb = F.relu(self.conv3(xb))\n",
    "        xb = F.avg_pool2d(xb, 4)\n",
    "        return xb.view(-1, xb.size(1))\n",
    " \n"
   ]
  },
  {
   "cell_type": "code",
   "execution_count": 5,
   "metadata": {},
   "outputs": [],
   "source": [
    "import torch.optim as optim\n",
    "\n",
    "lr = 0.1  # learning rate\n",
    "epochs = 2  # how many epochs to train for\n",
    "\n",
    "#Create the model and opt objects\n",
    "def get_model():\n",
    "    model = Net()\n",
    "    return model, optim.SGD(model.parameters(), lr, momentum=0.9)\n",
    "\n",
    "model, opt = get_model()"
   ]
  },
  {
   "cell_type": "code",
   "execution_count": null,
   "metadata": {},
   "outputs": [],
   "source": []
  },
  {
   "cell_type": "code",
   "execution_count": 21,
   "metadata": {},
   "outputs": [
    {
     "name": "stdout",
     "output_type": "stream",
     "text": [
      "Training loss: Epoch: 0 0.31308130836531295\n",
      "Test loss: Epoch: 0 tensor(0.4072)\n",
      "Training loss: Epoch: 1 0.3092696369250319\n",
      "Test loss: Epoch: 1 tensor(0.4144)\n"
     ]
    }
   ],
   "source": [
    "#Define a function for the loss calculation to be called by training and test data\n",
    "def loss_batch(model, loss_func, xb, yb, opt=None):\n",
    "    loss = loss_func(model(xb), yb)\n",
    "\n",
    "    if opt is not None:\n",
    "        loss.backward()\n",
    "        opt.step()\n",
    "        opt.zero_grad()\n",
    "\n",
    "    return loss.item()\n",
    "\n",
    "for epoch in range(epochs):\n",
    "    valid_loss = 0\n",
    "    valid_losses = 0\n",
    "    model.train()\n",
    "    for xb, yb in trainloader:\n",
    "        val_loss = loss_batch(model, loss_func, xb, yb, opt)    \n",
    "        valid_loss +=val_loss  \n",
    "    print(\"Training loss:\", \"Epoch:\", epoch, valid_loss / len(trainloader))\n",
    "    \n",
    "    model.eval()\n",
    "    #Eval mode we dont pass opt\n",
    "    with torch.no_grad():\n",
    "        valid_losses = sum(loss_func(model(xb), yb) for xb, yb in testloader)\n",
    "    print(\"Test loss:\", \"Epoch:\", epoch, valid_losses/ len(testloader))\n"
   ]
  },
  {
   "cell_type": "code",
   "execution_count": null,
   "metadata": {},
   "outputs": [],
   "source": []
  }
 ],
 "metadata": {
  "kernelspec": {
   "display_name": "Python 3",
   "language": "python",
   "name": "python3"
  },
  "language_info": {
   "codemirror_mode": {
    "name": "ipython",
    "version": 3
   },
   "file_extension": ".py",
   "mimetype": "text/x-python",
   "name": "python",
   "nbconvert_exporter": "python",
   "pygments_lexer": "ipython3",
   "version": "3.7.1"
  }
 },
 "nbformat": 4,
 "nbformat_minor": 2
}
